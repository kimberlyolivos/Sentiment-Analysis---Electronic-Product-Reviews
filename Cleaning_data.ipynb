{
  "nbformat": 4,
  "nbformat_minor": 0,
  "metadata": {
    "colab": {
      "provenance": []
    },
    "kernelspec": {
      "name": "python3",
      "display_name": "Python 3"
    },
    "language_info": {
      "name": "python"
    }
  },
  "cells": [
    {
      "cell_type": "code",
      "source": [
        "import pandas as pd"
      ],
      "metadata": {
        "id": "UR1htf6faQId"
      },
      "execution_count": null,
      "outputs": []
    },
    {
      "cell_type": "code",
      "source": [
        "file=pd.read_excel(\"/content/Onyx Data -DataDNA Dataset Challenge - Electronics Product Data Ratings - February 2024.xlsx\", header=0, sheet_name=1)"
      ],
      "metadata": {
        "id": "phc-1vAQZtpZ"
      },
      "execution_count": null,
      "outputs": []
    },
    {
      "cell_type": "code",
      "source": [
        "file.head(5)\n",
        "file.drop(columns=[\"keys\", \"id\", \"dateAdded\", \"dateUpdated\", \"imageURLs\", \"upc\", \"Unnamed: 24\", \"reviews.dateSeen\"], inplace=True)"
      ],
      "metadata": {
        "id": "90DId-CqaZhZ"
      },
      "execution_count": null,
      "outputs": []
    },
    {
      "cell_type": "code",
      "source": [
        "#checking null values in each column\n",
        "file.isna().sum()"
      ],
      "metadata": {
        "colab": {
          "base_uri": "https://localhost:8080/"
        },
        "id": "zUv28RMSqksO",
        "outputId": "05567244-4943-46f4-a64d-c5ee531589fc"
      },
      "execution_count": null,
      "outputs": [
        {
          "output_type": "execute_result",
          "data": {
            "text/plain": [
              "brand                     0\n",
              "categories                0\n",
              "colors                 1669\n",
              "dimension              1209\n",
              "manufacturer           2667\n",
              "manufacturerNumber        0\n",
              "name                      0\n",
              "reviews.date             61\n",
              "reviews.doRecommend    1391\n",
              "reviews.numHelpful     1486\n",
              "reviews.rating          164\n",
              "reviews.sourceURLs        0\n",
              "reviews.text              5\n",
              "reviews.title             4\n",
              "reviews.username          0\n",
              "sourceURLs                0\n",
              "weight                    0\n",
              "dtype: int64"
            ]
          },
          "metadata": {},
          "execution_count": 8
        }
      ]
    },
    {
      "cell_type": "code",
      "source": [
        "#reviewing inconsistencies in the column colors\n",
        "file[\"colors\"].unique()"
      ],
      "metadata": {
        "colab": {
          "base_uri": "https://localhost:8080/"
        },
        "id": "L81pd9rchLLL",
        "outputId": "ff667fd1-6f2a-4d54-cb8b-221b87e394ed"
      },
      "execution_count": null,
      "outputs": [
        {
          "output_type": "execute_result",
          "data": {
            "text/plain": [
              "array(['Black', 'Multicolor', nan,\n",
              "       'Blue,Graphite,Blue steel,Black,Merlot,Blizzard',\n",
              "       'Multicolor,Black,Grey',\n",
              "       'Siriusxm Sxezr1h1 Xm,Siriusxm Sxezr1v1 Xm', 'Blue',\n",
              "       'Red,Pink,Yellow,Blue,Bordeaux Pink,Cinnabar Red,Black,Viridian Blue,Charcoal Black',\n",
              "       'Navy,Black,Gray,Blue', 'Grey', 'BlackGrey', 'Black,Gray,Red,Blue',\n",
              "       'White', 'Gray,Color', 'Black,White', 'Cream',\n",
              "       'Black,Silver,BlackRed,SilverBlack', 'Black Ash'], dtype=object)"
            ]
          },
          "metadata": {},
          "execution_count": 4
        }
      ]
    },
    {
      "cell_type": "code",
      "source": [
        "#Changing the values to null, since its not a color\n",
        "pd.set_option('display.max_colwidth', None)\n",
        "file.loc[file[\"colors\"]==\"Siriusxm Sxezr1h1 Xm,Siriusxm Sxezr1v1 Xm\", \"colors\"]=np.nan"
      ],
      "metadata": {
        "id": "emO5uoAXhYhm"
      },
      "execution_count": null,
      "outputs": []
    },
    {
      "cell_type": "code",
      "source": [
        "#Reviewing the colors of each products, replacing those that specify the color in the name of the product\n",
        "colorsgroup=file[[\"name\", \"colors\"]].reset_index().groupby(by=[\"name\"])[[\"colors\", \"index\"]].count()"
      ],
      "metadata": {
        "id": "bBJGOYu7BaCZ"
      },
      "execution_count": null,
      "outputs": []
    },
    {
      "cell_type": "code",
      "source": [
        "#filling colors that dont have a color assigned with the color mentioned in the name of the product\n",
        "black=[\"Acoustimass 6 Series V Home Theater Speaker System (Black)\",\n",
        "       'Alpine - 6-1/2\" 2-Way Coaxial Car Speakers with Polypropylene Cones (Pair) - Black',\n",
        "       'JBL - 6\" x 8\" 2-Way Coaxial Car Speakers with Polypropylene Cones (Pair) - Black',\n",
        "       \"Kicker 41IK5BT2V2 Amphitheater High-Performance Audio System with Bluetooth, Black\",\n",
        "       \"Lenovo - AC Adapter for Select Lenovo Yoga Laptops - Black\",\n",
        "       \"Lenovo - AC Adapter for Select Lenovo Yoga Laptops - Black\",\n",
        "       \"Round LCD/Projector Ceiling Plate - Black\"]\n",
        "green_black=[\"DreamWave - Tremor Portable Bluetooth Speaker - Green,Black\"]\n",
        "\n",
        "for i in black:\n",
        "    file.loc[file[\"name\"]==i, \"colors\"]=\"Black\"\n",
        "for i in green_black:\n",
        "    file.loc[file[\"name\"]==i, \"colors\"]=\"Green,Black\"\n",
        "file.loc[file[\"name\"]==\"BlackGrey\", \"colors\"]=\"Green,Black\""
      ],
      "metadata": {
        "id": "-tVxWsqdE6Ne"
      },
      "execution_count": null,
      "outputs": []
    },
    {
      "cell_type": "code",
      "source": [
        "#Normalize dimension column\n",
        "dims = file[\"dimension\"].values\n",
        "for i in range(len(dims)):\n",
        "    s = str(dims[i])\n",
        "    if s == \"3 5/8 in 2 3/4 in 7 5/8 in\": s = \"3.63 x 2.75 x 7.63\"\n",
        "    if \"inches\" in s: s = s.replace(\" inches\", \"\")\n",
        "    elif \"in\" in s: s = s.replace(\" in \", \"\")\n",
        "    elif \"  \" in s: s = s.replace(\"  \", \" \")\n",
        "    dims[i]=s\n",
        "file[\"dimension\"]=pd.DataFrame(dims)"
      ],
      "metadata": {
        "id": "dqVXuWL1-La9"
      },
      "execution_count": null,
      "outputs": []
    },
    {
      "cell_type": "code",
      "source": [
        "#Replace the null values in reviews.text with the reviews.title (for later sentiment analysis based on that column) and reeplace\n",
        "#empty values in manufacturer column with the number of the manufacter since there isn't a name\n",
        "file['manufacturer'].fillna(file['manufacturerNumber'], inplace=True)\n",
        "file[\"reviews.text\"].fillna(file['reviews.title'], inplace=True)"
      ],
      "metadata": {
        "id": "0dzlV-64qogS"
      },
      "execution_count": null,
      "outputs": []
    },
    {
      "cell_type": "code",
      "source": [
        "#Turn the date column for it to only contain year, month and date\n",
        "from datetime import datetime\n",
        "ymd=file['reviews.date'].values\n",
        "for d in range(len(ymd)):\n",
        "  if pd.notna(ymd[d]):\n",
        "    dt=str(ymd[d]).split(\"T\")[0]\n",
        "    dt=datetime.strptime(dt, \"%Y-%m-%d\")\n",
        "    ymd[d]=dt\n",
        "file[\"reviews.date\"]=pd.DataFrame(ymd)"
      ],
      "metadata": {
        "id": "3xGrfX-KhtSo"
      },
      "execution_count": null,
      "outputs": []
    },
    {
      "cell_type": "code",
      "source": [
        " #Dropping duplicates\n",
        " file.drop_duplicates(inplace=True)\n",
        " file.drop_duplicates(subset=['reviews.text', \"reviews.date\"], inplace=True)"
      ],
      "metadata": {
        "id": "IwxCZmSGXvjQ"
      },
      "execution_count": null,
      "outputs": []
    },
    {
      "cell_type": "code",
      "source": [
        "#Save the changes made to an excel file\n",
        "file.to_excel(\"onyx processed.xlsx\", index=False)"
      ],
      "metadata": {
        "id": "NgBW5HZXgNQF"
      },
      "execution_count": null,
      "outputs": []
    },
    {
      "cell_type": "code",
      "source": [
        "#In excel there was seen that in the reviews.text column, in some cases, started with \"By\" and the username. In that way they weren't considered\n",
        "#duplicates until it was seen in excel, where once comparing it with another comment given by the same user it was clear that they were duplicates.\n",
        "#They were manually removed using filters."
      ],
      "metadata": {
        "id": "0aGWGhzWlpck"
      },
      "execution_count": null,
      "outputs": []
    }
  ]
}